{
 "cells": [
  {
   "cell_type": "markdown",
   "metadata": {},
   "source": [
    "# In this notebook, we will create test data, create features from that data, and give those features to the Kmeans inter-event representational similarity analysis."
   ]
  },
  {
   "cell_type": "code",
   "execution_count": 2,
   "metadata": {},
   "outputs": [
    {
     "ename": "SyntaxError",
     "evalue": "EOL while scanning string literal (2666616953.py, line 4)",
     "output_type": "error",
     "traceback": [
      "\u001b[0;36m  Cell \u001b[0;32mIn[2], line 4\u001b[0;36m\u001b[0m\n\u001b[0;31m    stimuli_paths = {\"path1\": \"1-2-3}\u001b[0m\n\u001b[0m                                     ^\u001b[0m\n\u001b[0;31mSyntaxError\u001b[0m\u001b[0;31m:\u001b[0m EOL while scanning string literal\n"
     ]
    }
   ],
   "source": [
    "# create test data\n",
    "import random\n",
    "num_codes = 2 # one code cares about path, the other cares about the current event\n",
    "code_types = [\"context\", \"current_event\"]\n",
    "num_searchlights_each_code = [20, 20]\n",
    "num_voxels_each_searchlight = 100\n",
    "# need to create a mapping from voxel index to a 3D space where closer together in 1D is closer\n",
    "# in 3D for visualization purposes\n",
    "voxels_to_code_index = []\n",
    "for code_index, num_searchlights in enumerate(num_searchlights_each_code):\n",
    "    for light in range(num_searchlights):\n",
    "        for i in range(num_voxels_each_searchlight):\n",
    "            voxels_to_code_index.append()\n",
    "random.shuffle(voxels_to_code_index)\n",
    "num_voxels_total = sum([num_voxels_each_searchlight * num_searchlights_each_code[i] for i in range(num_codes)])\n",
    "stimuli_paths = {\"path1\": \"context1-eventA-eventB-eventC\",\n",
    "                 \"path2\": \"context1-eventA-eventC-eventB\",\n",
    "                 \"path3\": \"context2-eventA-eventB-eventC\",\n",
    "                 \"path4\": \"context2-eventA-eventC-eventB\"}\n",
    "num_repeats_each_path = 10\n",
    "num_TRs_each_stimuli = 10\n",
    "num_participants = 40\n",
    "participant_to_trial_name_to_voxels_time_series = {}\n",
    "for participant_id in range(num_participants):\n",
    "    participant_to_trial_name_to_voxels_time_series[participant_id] = {}\n",
    "    for path_repeat_num in range(num_repeats_each_path):\n",
    "        for path_name, path_sequence in stimuli_paths.items():\n",
    "            for event in path_sequence.split(\"-\")[1:]:\n",
    "                for TR in range(num_TRs_each_stimuli):\n",
    "                    for code in code_types:\n",
    "                        for \n"
   ]
  },
  {
   "cell_type": "markdown",
   "metadata": {},
   "source": [
    "Above I created a test fMRI dataset consisting of a time series for each stimuli. A stimuli path consists of a context stimuli shown for 10 TRs and then events A through C in a particular order. The test dataset creates fMRI data with a number of voxels, a number of codes and a number of codes specified. Here we are creating a dataset where some parts of the brain are coding for context while another part of the brain codes for current event only. The point of this dataset is demonstrate what we did with our dataset in a minimal example that future researchers can work through and use as the starting point for developing their own similar pipeline tailored to their specific experiment. As the paper describes, for each searchlight we will be correlating the activity of the voxels during each event A-C with all the other events A-C at each event level where the structure of the sequence is a context node followed by 3 event levels. The searchlights with the context neural code will have high neural activity correlation between events that are part of the same context without any influence from each event's identity from A-C. However, the searchlights with the current event neural code will have correlated neural activity when the event is the same regardless of the context."
   ]
  },
  {
   "cell_type": "code",
   "execution_count": 1,
   "metadata": {},
   "outputs": [],
   "source": [
    "# create prediction based on these two codes"
   ]
  },
  {
   "cell_type": "markdown",
   "metadata": {},
   "source": [
    "I"
   ]
  }
 ],
 "metadata": {
  "kernelspec": {
   "display_name": "interleaved_blocked_modeling",
   "language": "python",
   "name": "python3"
  },
  "language_info": {
   "codemirror_mode": {
    "name": "ipython",
    "version": 3
   },
   "file_extension": ".py",
   "mimetype": "text/x-python",
   "name": "python",
   "nbconvert_exporter": "python",
   "pygments_lexer": "ipython3",
   "version": "3.8.18"
  }
 },
 "nbformat": 4,
 "nbformat_minor": 2
}
